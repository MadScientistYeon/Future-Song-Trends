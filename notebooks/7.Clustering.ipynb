{
 "cells": [
  {
   "cell_type": "markdown",
   "id": "63078c64",
   "metadata": {},
   "source": [
    "# Clustering\n",
    "I create new dataset with the models. The dataset includes artist name, rank, future growth. Finally I recommend artists for our advertisement clients."
   ]
  },
  {
   "cell_type": "markdown",
   "id": "ff8566cb",
   "metadata": {},
   "source": [
    "### Import Packages"
   ]
  },
  {
   "cell_type": "code",
   "execution_count": 1,
   "id": "37be708f",
   "metadata": {},
   "outputs": [],
   "source": [
    "import pickle\n",
    "import numpy as np\n",
    "import matplotlib.pyplot as plt\n",
    "import pandas as pd\n",
    "from scipy.cluster.hierarchy import linkage, dendrogram\n",
    "from sklearn.cluster import AgglomerativeClustering\n",
    "from sklearn.preprocessing import MinMaxScaler"
   ]
  },
  {
   "cell_type": "markdown",
   "id": "92d2f040",
   "metadata": {},
   "source": [
    "### Load Data"
   ]
  },
  {
   "cell_type": "code",
   "execution_count": 2,
   "id": "36dda6f1",
   "metadata": {},
   "outputs": [],
   "source": [
    "with open('../data/final/rank_df.pickle', 'rb') as rank:\n",
    "    rank_df = pickle.load(rank)\n",
    "    rank.close()\n",
    "with open('../data/final/future_growth.pickle', 'rb') as growth:\n",
    "    growth_dict = pickle.load(growth)\n",
    "    growth.close()"
   ]
  },
  {
   "cell_type": "code",
   "execution_count": 3,
   "id": "4d5d7447",
   "metadata": {},
   "outputs": [
    {
     "data": {
      "text/html": [
       "<div>\n",
       "<style scoped>\n",
       "    .dataframe tbody tr th:only-of-type {\n",
       "        vertical-align: middle;\n",
       "    }\n",
       "\n",
       "    .dataframe tbody tr th {\n",
       "        vertical-align: top;\n",
       "    }\n",
       "\n",
       "    .dataframe thead th {\n",
       "        text-align: right;\n",
       "    }\n",
       "</style>\n",
       "<table border=\"1\" class=\"dataframe\">\n",
       "  <thead>\n",
       "    <tr style=\"text-align: right;\">\n",
       "      <th></th>\n",
       "      <th>Rank</th>\n",
       "    </tr>\n",
       "    <tr>\n",
       "      <th>Artist</th>\n",
       "      <th></th>\n",
       "    </tr>\n",
       "  </thead>\n",
       "  <tbody>\n",
       "    <tr>\n",
       "      <th>Post Malone</th>\n",
       "      <td>1</td>\n",
       "    </tr>\n",
       "    <tr>\n",
       "      <th>Ed Sheeran</th>\n",
       "      <td>2</td>\n",
       "    </tr>\n",
       "    <tr>\n",
       "      <th>Billie Eilish</th>\n",
       "      <td>3</td>\n",
       "    </tr>\n",
       "    <tr>\n",
       "      <th>Drake</th>\n",
       "      <td>4</td>\n",
       "    </tr>\n",
       "    <tr>\n",
       "      <th>Ariana Grande</th>\n",
       "      <td>5</td>\n",
       "    </tr>\n",
       "  </tbody>\n",
       "</table>\n",
       "</div>"
      ],
      "text/plain": [
       "               Rank\n",
       "Artist             \n",
       "Post Malone       1\n",
       "Ed Sheeran        2\n",
       "Billie Eilish     3\n",
       "Drake             4\n",
       "Ariana Grande     5"
      ]
     },
     "execution_count": 3,
     "metadata": {},
     "output_type": "execute_result"
    }
   ],
   "source": [
    "rank_df.head()"
   ]
  },
  {
   "cell_type": "markdown",
   "id": "5fa69e94",
   "metadata": {},
   "source": [
    "### Create New Dataset"
   ]
  },
  {
   "cell_type": "code",
   "execution_count": 4,
   "id": "c5b810b0",
   "metadata": {},
   "outputs": [],
   "source": [
    "rank_df['Future Growth'] = growth_dict.values()"
   ]
  },
  {
   "cell_type": "code",
   "execution_count": 5,
   "id": "480c5ff1",
   "metadata": {},
   "outputs": [
    {
     "data": {
      "text/html": [
       "<div>\n",
       "<style scoped>\n",
       "    .dataframe tbody tr th:only-of-type {\n",
       "        vertical-align: middle;\n",
       "    }\n",
       "\n",
       "    .dataframe tbody tr th {\n",
       "        vertical-align: top;\n",
       "    }\n",
       "\n",
       "    .dataframe thead th {\n",
       "        text-align: right;\n",
       "    }\n",
       "</style>\n",
       "<table border=\"1\" class=\"dataframe\">\n",
       "  <thead>\n",
       "    <tr style=\"text-align: right;\">\n",
       "      <th></th>\n",
       "      <th>Rank</th>\n",
       "      <th>Future Growth</th>\n",
       "    </tr>\n",
       "    <tr>\n",
       "      <th>Artist</th>\n",
       "      <th></th>\n",
       "      <th></th>\n",
       "    </tr>\n",
       "  </thead>\n",
       "  <tbody>\n",
       "    <tr>\n",
       "      <th>Post Malone</th>\n",
       "      <td>1</td>\n",
       "      <td>0.153796</td>\n",
       "    </tr>\n",
       "    <tr>\n",
       "      <th>Ed Sheeran</th>\n",
       "      <td>2</td>\n",
       "      <td>-0.036148</td>\n",
       "    </tr>\n",
       "    <tr>\n",
       "      <th>Billie Eilish</th>\n",
       "      <td>3</td>\n",
       "      <td>3.318439</td>\n",
       "    </tr>\n",
       "    <tr>\n",
       "      <th>Drake</th>\n",
       "      <td>4</td>\n",
       "      <td>0.014655</td>\n",
       "    </tr>\n",
       "    <tr>\n",
       "      <th>Ariana Grande</th>\n",
       "      <td>5</td>\n",
       "      <td>1.241825</td>\n",
       "    </tr>\n",
       "  </tbody>\n",
       "</table>\n",
       "</div>"
      ],
      "text/plain": [
       "               Rank  Future Growth\n",
       "Artist                            \n",
       "Post Malone       1       0.153796\n",
       "Ed Sheeran        2      -0.036148\n",
       "Billie Eilish     3       3.318439\n",
       "Drake             4       0.014655\n",
       "Ariana Grande     5       1.241825"
      ]
     },
     "execution_count": 5,
     "metadata": {},
     "output_type": "execute_result"
    }
   ],
   "source": [
    "rank_df.head()"
   ]
  },
  {
   "cell_type": "code",
   "execution_count": 21,
   "id": "053b1fa1",
   "metadata": {},
   "outputs": [
    {
     "data": {
      "text/plain": [
       "Rank             96.000000\n",
       "Future Growth     0.275643\n",
       "Name: Lil Mosey, dtype: float64"
      ]
     },
     "execution_count": 21,
     "metadata": {},
     "output_type": "execute_result"
    }
   ],
   "source": [
    "rank_df.loc['Lil Mosey']"
   ]
  },
  {
   "cell_type": "markdown",
   "id": "8b26de28",
   "metadata": {},
   "source": [
    "### Outliers"
   ]
  },
  {
   "cell_type": "code",
   "execution_count": 6,
   "id": "a1e7f38d",
   "metadata": {},
   "outputs": [
    {
     "data": {
      "image/png": "[encoded data removed]",
      "text/plain": [
       "<Figure size 288x576 with 1 Axes>"
      ]
     },
     "metadata": {
      "needs_background": "light"
     },
     "output_type": "display_data"
    }
   ],
   "source": [
    "rank_df['Future Growth'].plot(kind='box', figsize=(4,8));"
   ]
  },
  {
   "cell_type": "code",
   "execution_count": 7,
   "id": "546fc8aa",
   "metadata": {},
   "outputs": [],
   "source": [
    "q1, q3 = np.percentile(rank_df['Future Growth'], [25, 75])\n",
    "iqr = q3 - q1\n",
    "lower_bound = q1 - (iqr * 1.5)\n",
    "upper_bound = q3 + (iqr * 1.5)\n",
    "outliers = np.where((rank_df['Future Growth'] > upper_bound)|(rank_df['Future Growth'] < lower_bound))"
   ]
  },
  {
   "cell_type": "code",
   "execution_count": 8,
   "id": "399a303e",
   "metadata": {},
   "outputs": [],
   "source": [
    "outliers_df = rank_df.iloc[outliers]\n",
    "artists_outliers = outliers_df.index"
   ]
  },
  {
   "cell_type": "code",
   "execution_count": 9,
   "id": "c054a85d",
   "metadata": {},
   "outputs": [],
   "source": [
    "rank_df.drop(artists_outliers, inplace=True)"
   ]
  },
  {
   "cell_type": "markdown",
   "id": "95bf2de9",
   "metadata": {},
   "source": [
    "### Clustering"
   ]
  },
  {
   "cell_type": "code",
   "execution_count": 10,
   "id": "2a7ea80c",
   "metadata": {},
   "outputs": [],
   "source": [
    "sc = MinMaxScaler()\n",
    "rank_df.loc[:, ['Rank', 'Future Growth']] = sc.fit_transform(rank_df)"
   ]
  },
  {
   "cell_type": "code",
   "execution_count": 11,
   "id": "b56f58d4",
   "metadata": {},
   "outputs": [],
   "source": [
    "link = linkage(rank_df, method='ward')"
   ]
  },
  {
   "cell_type": "code",
   "execution_count": 12,
   "id": "d4fcb6e0",
   "metadata": {},
   "outputs": [
    {
     "data": {
      "image/png": "[encoded data removed]",
      "text/plain": [
       "<Figure size 720x504 with 1 Axes>"
      ]
     },
     "metadata": {
      "needs_background": "light"
     },
     "output_type": "display_data"
    }
   ],
   "source": [
    "plt.figure(figsize=(10, 7))\n",
    "plt.title(\"Artist Dendograms\")\n",
    "dend = dendrogram(link)"
   ]
  },
  {
   "cell_type": "code",
   "execution_count": 13,
   "id": "e33946e2",
   "metadata": {},
   "outputs": [],
   "source": [
    "cluster = AgglomerativeClustering(n_clusters=6, affinity='euclidean', linkage='ward')\n",
    "cluster.fit_predict(rank_df);"
   ]
  },
  {
   "cell_type": "code",
   "execution_count": 14,
   "id": "00b18945",
   "metadata": {},
   "outputs": [
    {
     "data": {
      "text/plain": [
       "<matplotlib.collections.PathCollection at 0x121f42610>"
      ]
     },
     "execution_count": 14,
     "metadata": {},
     "output_type": "execute_result"
    },
    {
     "data": {
      "image/png": "[encoded data removed]",
      "text/plain": [
       "<Figure size 720x504 with 1 Axes>"
      ]
     },
     "metadata": {
      "needs_background": "light"
     },
     "output_type": "display_data"
    }
   ],
   "source": [
    "plt.figure(figsize=(10, 7))\n",
    "plt.scatter(rank_df.iloc[:, 0], rank_df.iloc[:, 1], c=cluster.labels_, cmap='rainbow')"
   ]
  },
  {
   "cell_type": "code",
   "execution_count": 15,
   "id": "e45b8273",
   "metadata": {},
   "outputs": [],
   "source": [
    "rank_df.iloc[:, 0:2] = sc.inverse_transform(rank_df)"
   ]
  },
  {
   "cell_type": "code",
   "execution_count": 16,
   "id": "bf3b07ae",
   "metadata": {},
   "outputs": [],
   "source": [
    "rank_df['label'] = cluster.labels_"
   ]
  },
  {
   "cell_type": "code",
   "execution_count": 17,
   "id": "f034ef80",
   "metadata": {},
   "outputs": [
    {
     "data": {
      "text/html": [
       "<div>\n",
       "<style scoped>\n",
       "    .dataframe tbody tr th:only-of-type {\n",
       "        vertical-align: middle;\n",
       "    }\n",
       "\n",
       "    .dataframe tbody tr th {\n",
       "        vertical-align: top;\n",
       "    }\n",
       "\n",
       "    .dataframe thead th {\n",
       "        text-align: right;\n",
       "    }\n",
       "</style>\n",
       "<table border=\"1\" class=\"dataframe\">\n",
       "  <thead>\n",
       "    <tr style=\"text-align: right;\">\n",
       "      <th></th>\n",
       "      <th>Rank</th>\n",
       "      <th>Future Growth</th>\n",
       "    </tr>\n",
       "    <tr>\n",
       "      <th>label</th>\n",
       "      <th></th>\n",
       "      <th></th>\n",
       "    </tr>\n",
       "  </thead>\n",
       "  <tbody>\n",
       "    <tr>\n",
       "      <th>0</th>\n",
       "      <td>58.428571</td>\n",
       "      <td>0.065065</td>\n",
       "    </tr>\n",
       "    <tr>\n",
       "      <th>1</th>\n",
       "      <td>87.500000</td>\n",
       "      <td>-0.009393</td>\n",
       "    </tr>\n",
       "    <tr>\n",
       "      <th>2</th>\n",
       "      <td>20.695652</td>\n",
       "      <td>0.005791</td>\n",
       "    </tr>\n",
       "    <tr>\n",
       "      <th>3</th>\n",
       "      <td>34.800000</td>\n",
       "      <td>0.500323</td>\n",
       "    </tr>\n",
       "    <tr>\n",
       "      <th>4</th>\n",
       "      <td>92.200000</td>\n",
       "      <td>0.347846</td>\n",
       "    </tr>\n",
       "    <tr>\n",
       "      <th>5</th>\n",
       "      <td>10.000000</td>\n",
       "      <td>0.222892</td>\n",
       "    </tr>\n",
       "  </tbody>\n",
       "</table>\n",
       "</div>"
      ],
      "text/plain": [
       "            Rank  Future Growth\n",
       "label                          \n",
       "0      58.428571       0.065065\n",
       "1      87.500000      -0.009393\n",
       "2      20.695652       0.005791\n",
       "3      34.800000       0.500323\n",
       "4      92.200000       0.347846\n",
       "5      10.000000       0.222892"
      ]
     },
     "execution_count": 17,
     "metadata": {},
     "output_type": "execute_result"
    }
   ],
   "source": [
    "rank_df.groupby('label').mean()"
   ]
  },
  {
   "cell_type": "code",
   "execution_count": 18,
   "id": "f736f24a",
   "metadata": {},
   "outputs": [
    {
     "data": {
      "text/plain": [
       "Index(['Lady Gaga', 'Queen', 'Pop Smoke', 'KAROL G', 'BTS'], dtype='object', name='Artist')"
      ]
     },
     "execution_count": 18,
     "metadata": {},
     "output_type": "execute_result"
    }
   ],
   "source": [
    "rank_df.loc[rank_df.label == 3, :].index"
   ]
  },
  {
   "cell_type": "code",
   "execution_count": 19,
   "id": "9c4ce00b",
   "metadata": {},
   "outputs": [
    {
     "data": {
      "text/plain": [
       "Index(['benny blanco', 'A Boogie Wit da Hoodie', 'SAINt JHN', 'Lil Mosey',\n",
       "       'Tyga'],\n",
       "      dtype='object', name='Artist')"
      ]
     },
     "execution_count": 19,
     "metadata": {},
     "output_type": "execute_result"
    }
   ],
   "source": [
    "rank_df.loc[rank_df.label == 4, :].index"
   ]
  },
  {
   "cell_type": "code",
   "execution_count": 20,
   "id": "f4616490",
   "metadata": {},
   "outputs": [
    {
     "data": {
      "text/plain": [
       "Index(['Post Malone', 'Bad Bunny', 'Juice WRLD', 'Travis Scott', 'Dua Lipa',\n",
       "       'Khalid', 'Marshmello'],\n",
       "      dtype='object', name='Artist')"
      ]
     },
     "execution_count": 20,
     "metadata": {},
     "output_type": "execute_result"
    }
   ],
   "source": [
    "rank_df.loc[rank_df.label == 5, :].index"
   ]
  },
  {
   "cell_type": "code",
   "execution_count": 32,
   "id": "7b282b73",
   "metadata": {},
   "outputs": [
    {
     "data": {
      "text/plain": [
       "Index(['Logic', 'Jonas Blue', 'Hailee Steinfeld', 'Piso 21', 'Shakira',\n",
       "       'Nio Garcia', 'Miley Cyrus', 'Major Lazer', 'French Montana',\n",
       "       'Kodak Black', 'Alan Walker', 'Manuel Turizo', 'Danny Ocean',\n",
       "       'Chris Brown'],\n",
       "      dtype='object', name='Artist')"
      ]
     },
     "execution_count": 32,
     "metadata": {},
     "output_type": "execute_result"
    }
   ],
   "source": [
    "rank_df.loc[rank_df.label == 1].index"
   ]
  },
  {
   "cell_type": "markdown",
   "id": "551c3366",
   "metadata": {},
   "source": [
    "### Conclusion"
   ]
  },
  {
   "cell_type": "markdown",
   "id": "88acd95e",
   "metadata": {},
   "source": [
    "Group 3: 'Lady Gaga', 'Queen', 'Pop Smoke', 'KAROL G', 'BTS'\n",
    "       \n",
    "Group 4: 'benny blanco', 'A Boogie Wit da Hoodie', 'SAINt JHN', 'Lil Mosey',\n",
    "       'Tyga'\n",
    "\n",
    "Group 5: 'Post Malone', 'Bad Bunny', 'Juice WRLD', 'Travis Scott', 'Dua Lipa',\n",
    "       'Khalid', 'Marshmello'"
   ]
  },
  {
   "cell_type": "markdown",
   "id": "10422711",
   "metadata": {},
   "source": [
    "Finally, I recommend 17 artists from top 100 artists."
   ]
  }
 ],
 "metadata": {
  "kernelspec": {
   "display_name": "Python 3 (ipykernel)",
   "language": "python",
   "name": "python3"
  },
  "language_info": {
   "codemirror_mode": {
    "name": "ipython",
    "version": 3
   },
   "file_extension": ".py",
   "mimetype": "text/x-python",
   "name": "python",
   "nbconvert_exporter": "python",
   "pygments_lexer": "ipython3",
   "version": "3.9.0"
  }
 },
 "nbformat": 4,
 "nbformat_minor": 5
}
