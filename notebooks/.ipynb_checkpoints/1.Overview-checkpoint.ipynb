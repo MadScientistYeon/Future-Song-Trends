{
 "cells": [
  {
   "cell_type": "markdown",
   "id": "cad4b3fa",
   "metadata": {},
   "source": [
    "# Overview"
   ]
  },
  {
   "cell_type": "markdown",
   "id": "fcc9cf37",
   "metadata": {},
   "source": [
    "![png](../data/images/overview.jpg)"
   ]
  },
  {
   "cell_type": "markdown",
   "id": "196c975b",
   "metadata": {},
   "source": [
    "I listen to music. I like artists. I recommend artists for the advertisement and brand models. In the world, there are millions of artists. So it is not easy to choose artists. I create recommendation model with dataset offered by spotify. "
   ]
  },
  {
   "cell_type": "markdown",
   "id": "ada52004",
   "metadata": {},
   "source": [
    "### 1. Data Understanding\n",
    "[Note Book](Data-Understanding.ipynb)"
   ]
  },
  {
   "cell_type": "markdown",
   "id": "27a7e9c2",
   "metadata": {},
   "source": [
    "### 2. Data Preparation\n",
    "[Note Book](Data-Preparation.ipynb)"
   ]
  },
  {
   "cell_type": "markdown",
   "id": "58c4a3d4",
   "metadata": {},
   "source": [
    "### 3. Modeling\n",
    "[Note Book](Modeling.ipynb)"
   ]
  },
  {
   "cell_type": "markdown",
   "id": "674bd05f",
   "metadata": {},
   "source": [
    "### 4. Evaluation\n",
    "[Note Book](Evaluation.ipynb)"
   ]
  },
  {
   "cell_type": "markdown",
   "id": "ca8bf1ee",
   "metadata": {},
   "source": [
    "### 5. Deployment\n",
    "[Note Book](Deployment.ipynb)"
   ]
  },
  {
   "cell_type": "code",
   "execution_count": null,
   "id": "515b29b2",
   "metadata": {},
   "outputs": [],
   "source": []
  }
 ],
 "metadata": {
  "kernelspec": {
   "display_name": "Python 3 (ipykernel)",
   "language": "python",
   "name": "python3"
  },
  "language_info": {
   "codemirror_mode": {
    "name": "ipython",
    "version": 3
   },
   "file_extension": ".py",
   "mimetype": "text/x-python",
   "name": "python",
   "nbconvert_exporter": "python",
   "pygments_lexer": "ipython3",
   "version": "3.9.0"
  }
 },
 "nbformat": 4,
 "nbformat_minor": 5
}
