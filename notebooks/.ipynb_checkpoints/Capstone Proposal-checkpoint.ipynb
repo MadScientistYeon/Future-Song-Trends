{
 "cells": [
  {
   "cell_type": "markdown",
   "id": "c49a35d8",
   "metadata": {},
   "source": [
    "# Capstone Proposal\n",
    "**Project Manager:** Yeonjae Zhang.  \n",
    "**Title:** Data Scientist.  \n",
    "**Date:** 17th May, 2022"
   ]
  },
  {
   "cell_type": "markdown",
   "id": "93e825ed",
   "metadata": {},
   "source": [
    "# Future Music Trends"
   ]
  },
  {
   "cell_type": "markdown",
   "id": "5747ea6e",
   "metadata": {},
   "source": [
    "### Business Understanding"
   ]
  },
  {
   "cell_type": "markdown",
   "id": "605c033f",
   "metadata": {},
   "source": [
    "I listen to music. There are hundreds of music trends. Depending on the trends, we tend to choose the music to listen to. Music trends are the most important factor in music money. Most people spend their time enjoying music online. That caused them to leave their data traces online. With the collected data, I can analyze music trends and I can even predict future music trends. The prediction will help experts in the music industry. I will work on the project for the music lovers."
   ]
  },
  {
   "cell_type": "markdown",
   "id": "e02263a0",
   "metadata": {},
   "source": [
    "### Data Understanding"
   ]
  },
  {
   "cell_type": "markdown",
   "id": "1a2ca6a8",
   "metadata": {},
   "source": [
    "The data of spotify daily top 200 songs with genres from 2017 - 2021 is offered by spotify. The data has 317,262 rows. It is an unorganized dataframe. Each row includes rank, title, genres, and date in a column. So I have to extract the information to organize my dataset."
   ]
  },
  {
   "cell_type": "markdown",
   "id": "6907b7b4",
   "metadata": {},
   "source": [
    "### Data Preparation"
   ]
  },
  {
   "cell_type": "markdown",
   "id": "19794a4c",
   "metadata": {},
   "source": [
    "I will separate the information by creating appropriate columns. , is used to separate the genre in the rows. First, I will use the split function to separate the genre column. Second, I will create new columns and save the information to the columns. Third, I will count genres in the top 200 songs daily. Finally, I will separate the dataset into each genre with the counts and dates."
   ]
  },
  {
   "cell_type": "markdown",
   "id": "e7d135e2",
   "metadata": {},
   "source": [
    "### Modeling"
   ]
  },
  {
   "cell_type": "markdown",
   "id": "48a9caa7",
   "metadata": {},
   "source": [
    "I will train the data with the time series model. I will figure out trends, seasonality, and residuals. Also, I have to plot ACF and PACF to identify Auto Regressive and Moving Average. I will train the SARIMA Model to predict future song trends."
   ]
  },
  {
   "cell_type": "markdown",
   "id": "429d83a2",
   "metadata": {},
   "source": [
    "### Evaluation"
   ]
  },
  {
   "cell_type": "markdown",
   "id": "0282e1d2",
   "metadata": {},
   "source": [
    "I will report MSE and AIC to evaluate the model on training and test dataset. Because I don't want to get wrong predictions on music trends. If I don't report the evaluation score. Anyone can't trust my model resutls."
   ]
  },
  {
   "cell_type": "markdown",
   "id": "5c6d877c",
   "metadata": {},
   "source": [
    "### Deployment"
   ]
  },
  {
   "cell_type": "markdown",
   "id": "676c4312",
   "metadata": {},
   "source": [
    "I will compare with each genre SARIMA model prediction. And I will choose most counted genre as trends. This prediction will help musicians, music investors, and other music lovers."
   ]
  },
  {
   "cell_type": "markdown",
   "id": "8db1d751",
   "metadata": {},
   "source": [
    "### Tools"
   ]
  },
  {
   "cell_type": "markdown",
   "id": "1c1e44ca",
   "metadata": {},
   "source": [
    "Pandas, Statsmodels, Matplotlib, and Seaborn will be used for this project. "
   ]
  }
 ],
 "metadata": {
  "kernelspec": {
   "display_name": "Python 3 (ipykernel)",
   "language": "python",
   "name": "python3"
  },
  "language_info": {
   "codemirror_mode": {
    "name": "ipython",
    "version": 3
   },
   "file_extension": ".py",
   "mimetype": "text/x-python",
   "name": "python",
   "nbconvert_exporter": "python",
   "pygments_lexer": "ipython3",
   "version": "3.9.0"
  }
 },
 "nbformat": 4,
 "nbformat_minor": 5
}
