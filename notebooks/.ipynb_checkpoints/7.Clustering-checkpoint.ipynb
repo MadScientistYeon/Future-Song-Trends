{
 "cells": [
  {
   "cell_type": "markdown",
   "id": "63078c64",
   "metadata": {},
   "source": [
    "# Clustering\n",
    "I create new dataset with the models. The dataset includes artist name, rank, future growth. Finally I recommend artists for our advertisement clients."
   ]
  },
  {
   "cell_type": "markdown",
   "id": "ff8566cb",
   "metadata": {},
   "source": [
    "### Import Packages"
   ]
  },
  {
   "cell_type": "code",
   "execution_count": 1,
   "id": "37be708f",
   "metadata": {},
   "outputs": [],
   "source": [
    "import pickle\n",
    "import numpy as np\n",
    "import matplotlib.pyplot as plt\n",
    "import pandas as pd\n",
    "from scipy.cluster.hierarchy import linkage, dendrogram\n",
    "from sklearn.cluster import AgglomerativeClustering\n",
    "from sklearn.preprocessing import MinMaxScaler"
   ]
  },
  {
   "cell_type": "markdown",
   "id": "92d2f040",
   "metadata": {},
   "source": [
    "### Load Data"
   ]
  },
  {
   "cell_type": "code",
   "execution_count": 2,
   "id": "36dda6f1",
   "metadata": {},
   "outputs": [],
   "source": [
    "with open('../data/final/rank_df.pickle', 'rb') as rank:\n",
    "    rank_df = pickle.load(rank)\n",
    "    rank.close()\n",
    "with open('../data/final/future_growth.pickle', 'rb') as growth:\n",
    "    growth_dict = pickle.load(growth)\n",
    "    growth.close()"
   ]
  },
  {
   "cell_type": "code",
   "execution_count": 3,
   "id": "4d5d7447",
   "metadata": {},
   "outputs": [
    {
     "data": {
      "text/html": [
       "<div>\n",
       "<style scoped>\n",
       "    .dataframe tbody tr th:only-of-type {\n",
       "        vertical-align: middle;\n",
       "    }\n",
       "\n",
       "    .dataframe tbody tr th {\n",
       "        vertical-align: top;\n",
       "    }\n",
       "\n",
       "    .dataframe thead th {\n",
       "        text-align: right;\n",
       "    }\n",
       "</style>\n",
       "<table border=\"1\" class=\"dataframe\">\n",
       "  <thead>\n",
       "    <tr style=\"text-align: right;\">\n",
       "      <th></th>\n",
       "      <th>Rank</th>\n",
       "    </tr>\n",
       "    <tr>\n",
       "      <th>Artist</th>\n",
       "      <th></th>\n",
       "    </tr>\n",
       "  </thead>\n",
       "  <tbody>\n",
       "    <tr>\n",
       "      <th>Post Malone</th>\n",
       "      <td>1</td>\n",
       "    </tr>\n",
       "    <tr>\n",
       "      <th>Ed Sheeran</th>\n",
       "      <td>2</td>\n",
       "    </tr>\n",
       "    <tr>\n",
       "      <th>Billie Eilish</th>\n",
       "      <td>3</td>\n",
       "    </tr>\n",
       "    <tr>\n",
       "      <th>Drake</th>\n",
       "      <td>4</td>\n",
       "    </tr>\n",
       "    <tr>\n",
       "      <th>Ariana Grande</th>\n",
       "      <td>5</td>\n",
       "    </tr>\n",
       "  </tbody>\n",
       "</table>\n",
       "</div>"
      ],
      "text/plain": [
       "               Rank\n",
       "Artist             \n",
       "Post Malone       1\n",
       "Ed Sheeran        2\n",
       "Billie Eilish     3\n",
       "Drake             4\n",
       "Ariana Grande     5"
      ]
     },
     "execution_count": 3,
     "metadata": {},
     "output_type": "execute_result"
    }
   ],
   "source": [
    "rank_df.head()"
   ]
  },
  {
   "cell_type": "markdown",
   "id": "5fa69e94",
   "metadata": {},
   "source": [
    "### Create New Dataset"
   ]
  },
  {
   "cell_type": "code",
   "execution_count": 4,
   "id": "c5b810b0",
   "metadata": {},
   "outputs": [],
   "source": [
    "rank_df['Future Growth'] = growth_dict.values()"
   ]
  },
  {
   "cell_type": "code",
   "execution_count": 5,
   "id": "480c5ff1",
   "metadata": {},
   "outputs": [
    {
     "data": {
      "text/html": [
       "<div>\n",
       "<style scoped>\n",
       "    .dataframe tbody tr th:only-of-type {\n",
       "        vertical-align: middle;\n",
       "    }\n",
       "\n",
       "    .dataframe tbody tr th {\n",
       "        vertical-align: top;\n",
       "    }\n",
       "\n",
       "    .dataframe thead th {\n",
       "        text-align: right;\n",
       "    }\n",
       "</style>\n",
       "<table border=\"1\" class=\"dataframe\">\n",
       "  <thead>\n",
       "    <tr style=\"text-align: right;\">\n",
       "      <th></th>\n",
       "      <th>Rank</th>\n",
       "      <th>Future Growth</th>\n",
       "    </tr>\n",
       "    <tr>\n",
       "      <th>Artist</th>\n",
       "      <th></th>\n",
       "      <th></th>\n",
       "    </tr>\n",
       "  </thead>\n",
       "  <tbody>\n",
       "    <tr>\n",
       "      <th>Post Malone</th>\n",
       "      <td>1</td>\n",
       "      <td>0.299910</td>\n",
       "    </tr>\n",
       "    <tr>\n",
       "      <th>Ed Sheeran</th>\n",
       "      <td>2</td>\n",
       "      <td>-0.233435</td>\n",
       "    </tr>\n",
       "    <tr>\n",
       "      <th>Billie Eilish</th>\n",
       "      <td>3</td>\n",
       "      <td>1.175315</td>\n",
       "    </tr>\n",
       "    <tr>\n",
       "      <th>Drake</th>\n",
       "      <td>4</td>\n",
       "      <td>0.338256</td>\n",
       "    </tr>\n",
       "    <tr>\n",
       "      <th>Ariana Grande</th>\n",
       "      <td>5</td>\n",
       "      <td>0.253801</td>\n",
       "    </tr>\n",
       "  </tbody>\n",
       "</table>\n",
       "</div>"
      ],
      "text/plain": [
       "               Rank  Future Growth\n",
       "Artist                            \n",
       "Post Malone       1       0.299910\n",
       "Ed Sheeran        2      -0.233435\n",
       "Billie Eilish     3       1.175315\n",
       "Drake             4       0.338256\n",
       "Ariana Grande     5       0.253801"
      ]
     },
     "execution_count": 5,
     "metadata": {},
     "output_type": "execute_result"
    }
   ],
   "source": [
    "rank_df.head()"
   ]
  },
  {
   "cell_type": "markdown",
   "id": "95bf2de9",
   "metadata": {},
   "source": [
    "### Clustering"
   ]
  },
  {
   "cell_type": "code",
   "execution_count": 6,
   "id": "2a7ea80c",
   "metadata": {},
   "outputs": [],
   "source": [
    "sc = MinMaxScaler()\n",
    "rank_df.loc[:, ['Rank', 'Future Growth']] = sc.fit_transform(rank_df)"
   ]
  },
  {
   "cell_type": "code",
   "execution_count": 7,
   "id": "b56f58d4",
   "metadata": {},
   "outputs": [],
   "source": [
    "link = linkage(rank_df, method='ward')"
   ]
  },
  {
   "cell_type": "code",
   "execution_count": 8,
   "id": "d4fcb6e0",
   "metadata": {},
   "outputs": [
    {
     "data": {
      "image/png": "[encoded data removed]",
      "text/plain": [
       "<Figure size 720x504 with 1 Axes>"
      ]
     },
     "metadata": {
      "needs_background": "light"
     },
     "output_type": "display_data"
    }
   ],
   "source": [
    "plt.figure(figsize=(10, 7))\n",
    "plt.title(\"Artist Dendograms\")\n",
    "dend = dendrogram(link)"
   ]
  },
  {
   "cell_type": "code",
   "execution_count": 9,
   "id": "e33946e2",
   "metadata": {},
   "outputs": [],
   "source": [
    "cluster = AgglomerativeClustering(n_clusters=6, affinity='euclidean', linkage='ward')\n",
    "cluster.fit_predict(rank_df);"
   ]
  },
  {
   "cell_type": "code",
   "execution_count": 10,
   "id": "00b18945",
   "metadata": {},
   "outputs": [
    {
     "data": {
      "text/plain": [
       "<matplotlib.collections.PathCollection at 0x129a289d0>"
      ]
     },
     "execution_count": 10,
     "metadata": {},
     "output_type": "execute_result"
    },
    {
     "data": {
      "image/png": "[encoded data removed]",
      "text/plain": [
       "<Figure size 720x504 with 1 Axes>"
      ]
     },
     "metadata": {
      "needs_background": "light"
     },
     "output_type": "display_data"
    }
   ],
   "source": [
    "plt.figure(figsize=(10, 7))\n",
    "plt.scatter(rank_df.iloc[:, 0], rank_df.iloc[:, 1], c=cluster.labels_, cmap='rainbow')"
   ]
  },
  {
   "cell_type": "code",
   "execution_count": 11,
   "id": "e45b8273",
   "metadata": {},
   "outputs": [],
   "source": [
    "rank_df.iloc[:, 0:2] = sc.inverse_transform(rank_df)"
   ]
  },
  {
   "cell_type": "code",
   "execution_count": 12,
   "id": "bf3b07ae",
   "metadata": {},
   "outputs": [],
   "source": [
    "rank_df['label'] = cluster.labels_"
   ]
  },
  {
   "cell_type": "code",
   "execution_count": 13,
   "id": "f034ef80",
   "metadata": {},
   "outputs": [
    {
     "data": {
      "text/html": [
       "<div>\n",
       "<style scoped>\n",
       "    .dataframe tbody tr th:only-of-type {\n",
       "        vertical-align: middle;\n",
       "    }\n",
       "\n",
       "    .dataframe tbody tr th {\n",
       "        vertical-align: top;\n",
       "    }\n",
       "\n",
       "    .dataframe thead th {\n",
       "        text-align: right;\n",
       "    }\n",
       "</style>\n",
       "<table border=\"1\" class=\"dataframe\">\n",
       "  <thead>\n",
       "    <tr style=\"text-align: right;\">\n",
       "      <th></th>\n",
       "      <th>Rank</th>\n",
       "      <th>Future Growth</th>\n",
       "    </tr>\n",
       "    <tr>\n",
       "      <th>label</th>\n",
       "      <th></th>\n",
       "      <th></th>\n",
       "    </tr>\n",
       "  </thead>\n",
       "  <tbody>\n",
       "    <tr>\n",
       "      <th>0</th>\n",
       "      <td>69.826087</td>\n",
       "      <td>-7.844185</td>\n",
       "    </tr>\n",
       "    <tr>\n",
       "      <th>1</th>\n",
       "      <td>67.250000</td>\n",
       "      <td>64.675703</td>\n",
       "    </tr>\n",
       "    <tr>\n",
       "      <th>2</th>\n",
       "      <td>92.000000</td>\n",
       "      <td>0.048849</td>\n",
       "    </tr>\n",
       "    <tr>\n",
       "      <th>3</th>\n",
       "      <td>29.500000</td>\n",
       "      <td>-1.146448</td>\n",
       "    </tr>\n",
       "    <tr>\n",
       "      <th>4</th>\n",
       "      <td>9.000000</td>\n",
       "      <td>0.116655</td>\n",
       "    </tr>\n",
       "    <tr>\n",
       "      <th>5</th>\n",
       "      <td>50.000000</td>\n",
       "      <td>-2.723026</td>\n",
       "    </tr>\n",
       "  </tbody>\n",
       "</table>\n",
       "</div>"
      ],
      "text/plain": [
       "            Rank  Future Growth\n",
       "label                          \n",
       "0      69.826087      -7.844185\n",
       "1      67.250000      64.675703\n",
       "2      92.000000       0.048849\n",
       "3      29.500000      -1.146448\n",
       "4       9.000000       0.116655\n",
       "5      50.000000      -2.723026"
      ]
     },
     "execution_count": 13,
     "metadata": {},
     "output_type": "execute_result"
    }
   ],
   "source": [
    "rank_df.groupby('label').mean()"
   ]
  },
  {
   "cell_type": "code",
   "execution_count": 14,
   "id": "f736f24a",
   "metadata": {},
   "outputs": [
    {
     "data": {
      "text/plain": [
       "Index(['Lauv', '21 Savage', 'Bebe Rexha', 'Piso 21'], dtype='object', name='Artist')"
      ]
     },
     "execution_count": 14,
     "metadata": {},
     "output_type": "execute_result"
    }
   ],
   "source": [
    "rank_df.loc[rank_df.label == 1, :].index"
   ]
  },
  {
   "cell_type": "markdown",
   "id": "551c3366",
   "metadata": {},
   "source": [
    "### Conclusion"
   ]
  },
  {
   "cell_type": "markdown",
   "id": "88acd95e",
   "metadata": {},
   "source": [
    "I can recommend Lauv, 21 Savage, Bebe Rexha, and Piso 21. That's becuae they have high potential. Also, their ranking is not high. It explains they are not expensive than high rankers."
   ]
  },
  {
   "cell_type": "code",
   "execution_count": null,
   "id": "21dc952f",
   "metadata": {},
   "outputs": [],
   "source": []
  }
 ],
 "metadata": {
  "kernelspec": {
   "display_name": "Python 3 (ipykernel)",
   "language": "python",
   "name": "python3"
  },
  "language_info": {
   "codemirror_mode": {
    "name": "ipython",
    "version": 3
   },
   "file_extension": ".py",
   "mimetype": "text/x-python",
   "name": "python",
   "nbconvert_exporter": "python",
   "pygments_lexer": "ipython3",
   "version": "3.9.0"
  }
 },
 "nbformat": 4,
 "nbformat_minor": 5
}
