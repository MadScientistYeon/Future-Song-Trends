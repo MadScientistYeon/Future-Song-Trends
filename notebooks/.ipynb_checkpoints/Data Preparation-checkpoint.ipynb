{
 "cells": [
  {
   "cell_type": "markdown",
   "id": "677ed9aa",
   "metadata": {},
   "source": [
    "# Data Preparation"
   ]
  },
  {
   "cell_type": "markdown",
   "id": "8c498ec6",
   "metadata": {},
   "source": [
    "I will separate the information by creating appropriate columns. , is used to separate the genre in the rows. First, I will use the split function to separate the genre column. Second, I will create new columns and save the information to the columns. Third, I will count genres in the top 200 songs daily. Finally, I will separate the dataset into each genre with the counts and dates."
   ]
  },
  {
   "cell_type": "markdown",
   "id": "fdcf103b",
   "metadata": {},
   "source": [
    "### Import Packages"
   ]
  },
  {
   "cell_type": "code",
   "execution_count": 1,
   "id": "71284c4a",
   "metadata": {},
   "outputs": [],
   "source": [
    "import pandas as pd\n",
    "import matplotlib.pyplot as plt\n",
    "import pickle"
   ]
  },
  {
   "cell_type": "markdown",
   "id": "b575d6aa",
   "metadata": {},
   "source": [
    "### Load Data"
   ]
  },
  {
   "cell_type": "code",
   "execution_count": 2,
   "id": "832e5bd5",
   "metadata": {},
   "outputs": [
    {
     "data": {
      "text/html": [
       "<div>\n",
       "<style scoped>\n",
       "    .dataframe tbody tr th:only-of-type {\n",
       "        vertical-align: middle;\n",
       "    }\n",
       "\n",
       "    .dataframe tbody tr th {\n",
       "        vertical-align: top;\n",
       "    }\n",
       "\n",
       "    .dataframe thead th {\n",
       "        text-align: right;\n",
       "    }\n",
       "</style>\n",
       "<table border=\"1\" class=\"dataframe\">\n",
       "  <thead>\n",
       "    <tr style=\"text-align: right;\">\n",
       "      <th></th>\n",
       "      <th>Position</th>\n",
       "      <th>Track Name</th>\n",
       "      <th>Artist</th>\n",
       "      <th>Streams</th>\n",
       "      <th>Date</th>\n",
       "      <th>Genre</th>\n",
       "    </tr>\n",
       "  </thead>\n",
       "  <tbody>\n",
       "    <tr>\n",
       "      <th>0</th>\n",
       "      <td>1</td>\n",
       "      <td>Starboy</td>\n",
       "      <td>The Weeknd</td>\n",
       "      <td>3135625</td>\n",
       "      <td>2017-01-01</td>\n",
       "      <td>['canadian pop', 'canadian contemporary r&amp;b', ...</td>\n",
       "    </tr>\n",
       "    <tr>\n",
       "      <th>1</th>\n",
       "      <td>2</td>\n",
       "      <td>Closer</td>\n",
       "      <td>The Chainsmokers</td>\n",
       "      <td>3015525</td>\n",
       "      <td>2017-01-01</td>\n",
       "      <td>['pop', 'pop dance', 'tropical house', 'edm', ...</td>\n",
       "    </tr>\n",
       "    <tr>\n",
       "      <th>2</th>\n",
       "      <td>3</td>\n",
       "      <td>Let Me Love You</td>\n",
       "      <td>DJ Snake</td>\n",
       "      <td>2545384</td>\n",
       "      <td>2017-01-01</td>\n",
       "      <td>['pop', 'electronic trap', 'dance pop', 'edm',...</td>\n",
       "    </tr>\n",
       "    <tr>\n",
       "      <th>3</th>\n",
       "      <td>4</td>\n",
       "      <td>Rockabye (feat. Sean Paul &amp; Anne-Marie)</td>\n",
       "      <td>Clean Bandit</td>\n",
       "      <td>2356604</td>\n",
       "      <td>2017-01-01</td>\n",
       "      <td>['pop', 'uk dance', 'dance pop', 'uk funky', '...</td>\n",
       "    </tr>\n",
       "    <tr>\n",
       "      <th>4</th>\n",
       "      <td>5</td>\n",
       "      <td>One Dance</td>\n",
       "      <td>Drake</td>\n",
       "      <td>2259887</td>\n",
       "      <td>2017-01-01</td>\n",
       "      <td>['toronto rap', 'canadian pop', 'canadian hip ...</td>\n",
       "    </tr>\n",
       "  </tbody>\n",
       "</table>\n",
       "</div>"
      ],
      "text/plain": [
       "   Position                               Track Name            Artist  \\\n",
       "0         1                                  Starboy        The Weeknd   \n",
       "1         2                                   Closer  The Chainsmokers   \n",
       "2         3                          Let Me Love You          DJ Snake   \n",
       "3         4  Rockabye (feat. Sean Paul & Anne-Marie)      Clean Bandit   \n",
       "4         5                                One Dance             Drake   \n",
       "\n",
       "   Streams       Date                                              Genre  \n",
       "0  3135625 2017-01-01  ['canadian pop', 'canadian contemporary r&b', ...  \n",
       "1  3015525 2017-01-01  ['pop', 'pop dance', 'tropical house', 'edm', ...  \n",
       "2  2545384 2017-01-01  ['pop', 'electronic trap', 'dance pop', 'edm',...  \n",
       "3  2356604 2017-01-01  ['pop', 'uk dance', 'dance pop', 'uk funky', '...  \n",
       "4  2259887 2017-01-01  ['toronto rap', 'canadian pop', 'canadian hip ...  "
      ]
     },
     "execution_count": 2,
     "metadata": {},
     "output_type": "execute_result"
    }
   ],
   "source": [
    "df = pd.read_csv('../data/raw/data.csv', sep='#', parse_dates=['Date'])\n",
    "df.head()"
   ]
  },
  {
   "cell_type": "code",
   "execution_count": 3,
   "id": "042e6c07",
   "metadata": {},
   "outputs": [
    {
     "name": "stdout",
     "output_type": "stream",
     "text": [
      "<class 'pandas.core.frame.DataFrame'>\n",
      "RangeIndex: 321200 entries, 0 to 321199\n",
      "Data columns (total 6 columns):\n",
      " #   Column      Non-Null Count   Dtype         \n",
      "---  ------      --------------   -----         \n",
      " 0   Position    321200 non-null  int64         \n",
      " 1   Track Name  321182 non-null  object        \n",
      " 2   Artist      321182 non-null  object        \n",
      " 3   Streams     321200 non-null  int64         \n",
      " 4   Date        321200 non-null  datetime64[ns]\n",
      " 5   Genre       321182 non-null  object        \n",
      "dtypes: datetime64[ns](1), int64(2), object(3)\n",
      "memory usage: 14.7+ MB\n"
     ]
    }
   ],
   "source": [
    "df.info()"
   ]
  },
  {
   "cell_type": "markdown",
   "id": "1276771f",
   "metadata": {},
   "source": [
    "### Data Cleaning"
   ]
  },
  {
   "cell_type": "code",
   "execution_count": 4,
   "id": "49cdea6b",
   "metadata": {},
   "outputs": [
    {
     "data": {
      "text/plain": [
       "Position       0\n",
       "Track Name    18\n",
       "Artist        18\n",
       "Streams        0\n",
       "Date           0\n",
       "Genre         18\n",
       "dtype: int64"
      ]
     },
     "execution_count": 4,
     "metadata": {},
     "output_type": "execute_result"
    }
   ],
   "source": [
    "df.isna().sum()"
   ]
  },
  {
   "cell_type": "code",
   "execution_count": 5,
   "id": "035edad0",
   "metadata": {},
   "outputs": [],
   "source": [
    "df.dropna(inplace=True)"
   ]
  },
  {
   "cell_type": "markdown",
   "id": "b66f283c",
   "metadata": {},
   "source": [
    "### Top 20 Genres"
   ]
  },
  {
   "cell_type": "code",
   "execution_count": 6,
   "id": "cbae9317",
   "metadata": {},
   "outputs": [],
   "source": [
    "genres = df.Genre.str.replace('[', '', regex=False)\n",
    "genres = genres.str.replace(']', '', regex=False)"
   ]
  },
  {
   "cell_type": "code",
   "execution_count": 7,
   "id": "6edec9c9",
   "metadata": {},
   "outputs": [],
   "source": [
    "genres_keywords = {}\n",
    "for row in genres:\n",
    "    for genre in row.split(sep=','):\n",
    "        genre = genre.strip()\n",
    "        if genre in genres_keywords.keys():\n",
    "            genres_keywords[genre] += 1\n",
    "        else:\n",
    "            genres_keywords[genre] = 1\n",
    "keywords = sorted(genres_keywords.items(), key=lambda x: x[1], reverse=True)"
   ]
  },
  {
   "cell_type": "code",
   "execution_count": 8,
   "id": "c5e20c55",
   "metadata": {},
   "outputs": [
    {
     "data": {
      "image/png": "[encoded data removed]",
      "text/plain": [
       "<Figure size 1080x360 with 1 Axes>"
      ]
     },
     "metadata": {
      "needs_background": "light"
     },
     "output_type": "display_data"
    }
   ],
   "source": [
    "x = dict(keywords[:20]).keys()\n",
    "y = dict(keywords[:20]).values()\n",
    "plt.figure(figsize=(15,5))\n",
    "plt.bar(x, y, color='g')\n",
    "plt.xticks(rotation=90);\n",
    "plt.title('Top 20 Genres', fontsize=25);\n",
    "plt.ylabel('Counts', fontsize=10);"
   ]
  },
  {
   "cell_type": "markdown",
   "id": "802322e1",
   "metadata": {},
   "source": [
    "### Create Time Series Datasets"
   ]
  },
  {
   "cell_type": "code",
   "execution_count": 9,
   "id": "6ec2dca4",
   "metadata": {},
   "outputs": [
    {
     "name": "stderr",
     "output_type": "stream",
     "text": [
      "/var/folders/d4/tg984gtn2rx6y05r3sgg1jn80000gn/T/ipykernel_10732/2494636598.py:3: UserWarning: This pattern is interpreted as a regular expression, and has match groups. To actually get the groups, use str.extract.\n",
      "  genre_df = df.loc[df.Genre.str.contains(genre), ['Date', 'Genre']].groupby('Date').count()[:-20]\n"
     ]
    }
   ],
   "source": [
    "dataset_dict = {}\n",
    "for genre in dict(keywords).keys():\n",
    "    genre_df = df.loc[df.Genre.str.contains(genre), ['Date', 'Genre']].groupby('Date').count()[:-20]\n",
    "    genre_df.columns = [genre]\n",
    "    dataset_dict[genre] = genre_df"
   ]
  },
  {
   "cell_type": "markdown",
   "id": "50d9c9cc",
   "metadata": {},
   "source": [
    "### Save the datasets"
   ]
  },
  {
   "cell_type": "code",
   "execution_count": 10,
   "id": "89494143",
   "metadata": {},
   "outputs": [],
   "source": [
    "with open('../data/final/dataset_dict.pickle', 'wb') as final_data:\n",
    "    pickle.dump(dataset_dict, final_data)"
   ]
  }
 ],
 "metadata": {
  "kernelspec": {
   "display_name": "Python 3 (ipykernel)",
   "language": "python",
   "name": "python3"
  },
  "language_info": {
   "codemirror_mode": {
    "name": "ipython",
    "version": 3
   },
   "file_extension": ".py",
   "mimetype": "text/x-python",
   "name": "python",
   "nbconvert_exporter": "python",
   "pygments_lexer": "ipython3",
   "version": "3.9.0"
  }
 },
 "nbformat": 4,
 "nbformat_minor": 5
}
