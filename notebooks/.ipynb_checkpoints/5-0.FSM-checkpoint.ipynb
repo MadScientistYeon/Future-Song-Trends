{
 "cells": [
  {
   "cell_type": "markdown",
   "id": "25194c78",
   "metadata": {},
   "source": [
    "# Simple Modeling & Evaluation\n",
    "My model is RNN-GRU model. I train the model to get 3 month future growth."
   ]
  },
  {
   "cell_type": "markdown",
   "id": "d84df686",
   "metadata": {},
   "source": [
    "### Import Packages"
   ]
  },
  {
   "cell_type": "code",
   "execution_count": 1,
   "id": "6d7e8b9c",
   "metadata": {},
   "outputs": [],
   "source": [
    "import pickle\n",
    "import numpy as np\n",
    "import pandas as pd\n",
    "import matplotlib.pyplot as plt"
   ]
  },
  {
   "cell_type": "markdown",
   "id": "b5f125c1",
   "metadata": {},
   "source": [
    "### Functions"
   ]
  },
  {
   "cell_type": "code",
   "execution_count": 2,
   "id": "1a7ebfb8",
   "metadata": {},
   "outputs": [],
   "source": [
    "# train test split & scaler\n",
    "def train_test(all_data, time_steps, for_periods):\n",
    "\n",
    "    # training & test set\n",
    "    train = all_data[:'2019'].values\n",
    "    test = all_data['2020':].values\n",
    "    train_len = len(train)\n",
    "    test_len = len(test)\n",
    "    \n",
    "    # min max scaler\n",
    "    from sklearn.preprocessing import MinMaxScaler\n",
    "    sc = MinMaxScaler()\n",
    "    train = sc.fit_transform(train.reshape(-1,1))\n",
    "    \n",
    "    # train & test slicing with time steps and periods\n",
    "    X_train = []\n",
    "    y_train = []\n",
    "    y_train_stacked = []\n",
    "    for i in range(time_steps, train_len-for_periods+1):\n",
    "        X_train.append(train[i-time_steps:i])\n",
    "        y_train.append(train[i:i+for_periods])\n",
    "    X_train, y_train = np.array(X_train), np.array(y_train)\n",
    "    \n",
    "    # reshape to 3-dimensional\n",
    "    X_train = np.reshape(X_train, (X_train.shape[0], X_train.shape[1], 1))\n",
    "    \n",
    "    # preparing to create X_test\n",
    "    inputs = pd.concat((all_data[:'2019'], all_data['2020':]), axis=0).values\n",
    "    inputs = inputs[len(inputs) - len(test) - time_steps:]\n",
    "    inputs = sc.transform(inputs.reshape(-1,1))\n",
    "    \n",
    "    X_test = []\n",
    "    for i in range(time_steps, test_len+time_steps-for_periods):\n",
    "        X_test.append(inputs[i-time_steps:i])\n",
    "    X_test = np.array(X_test)\n",
    "    X_test = np.reshape(X_test, (X_test.shape[0], X_test.shape[1], 1))\n",
    "    \n",
    "    return X_train, y_train, X_test, sc\n",
    "        "
   ]
  },
  {
   "cell_type": "code",
   "execution_count": 3,
   "id": "46615588",
   "metadata": {},
   "outputs": [],
   "source": [
    "# GRU model\n",
    "def GRU_model(X_train, y_train, X_test, sc, artist):\n",
    "    # import\n",
    "    from tensorflow.keras.models import Sequential\n",
    "    from tensorflow.keras.layers import Dense, SimpleRNN, GRU\n",
    "    from tensorflow.keras.optimizers import SGD\n",
    "    from tensorflow.keras.callbacks import EarlyStopping, ModelCheckpoint\n",
    "    \n",
    "    # GRU architecture\n",
    "    my_GRU_model = Sequential()\n",
    "    my_GRU_model.add(GRU(units=50, return_sequences=True, input_shape=(X_train.shape[1], 1), activation='tanh'))\n",
    "    my_GRU_model.add(GRU(units=50, activation='tanh'))\n",
    "    my_GRU_model.add(Dense(units=13))\n",
    "    \n",
    "    # Compile\n",
    "    my_GRU_model.compile(optimizer=SGD(learning_rate=0.05, decay=1e-7, momentum=0.9, nesterov=False), \n",
    "                         loss='mean_squared_error')\n",
    "    \n",
    "    # Early Stop, Model Checkpoint\n",
    "    es = EarlyStopping(patience=30)\n",
    "    mc = ModelCheckpoint('../models/checkpoint/{}.h5'.format(artist), save_best_only=True, monitor='val_loss')\n",
    "    \n",
    "    # Fitting\n",
    "    history = my_GRU_model.fit(X_train[:-26], y_train[:-26], epochs=150, batch_size=8, verbose=0, validation_data=(X_train[-26:], y_train[-26:]), callbacks=[es, mc])\n",
    "    my_GRU_model.load_weights('../models/checkpoint/{}.h5'.format(artist))\n",
    "                     \n",
    "    GRU_prediction = my_GRU_model.predict(X_test)\n",
    "    GRU_prediction = sc.inverse_transform(GRU_prediction)\n",
    "    \n",
    "    return my_GRU_model, GRU_prediction, history"
   ]
  },
  {
   "cell_type": "code",
   "execution_count": 4,
   "id": "14488519",
   "metadata": {},
   "outputs": [],
   "source": [
    "# actual vs pred plot\n",
    "def actual_pred_plot(actual, preds):\n",
    "    actual_pred = pd.DataFrame(columns=['Actual', 'Predict'])\n",
    "    actual_pred['Actual'] = actual['2020':][0:len(preds)]\n",
    "    actual_pred['Predict'] = preds\n",
    "    \n",
    "    from tensorflow.keras.metrics import MeanSquaredError\n",
    "    m = MeanSquaredError()\n",
    "    m.update_state(np.array(actual_pred['Actual']), np.array(actual_pred['Predict']))\n",
    "    \n",
    "    return m.result().numpy(), actual_pred.plot()\n",
    "    "
   ]
  },
  {
   "cell_type": "markdown",
   "id": "c3d19704",
   "metadata": {},
   "source": [
    "### Load Data"
   ]
  },
  {
   "cell_type": "code",
   "execution_count": 5,
   "id": "cdbfde10",
   "metadata": {},
   "outputs": [],
   "source": [
    "# Load artists_dict\n",
    "with open('../data/final/artists_dict.pickle', 'rb') as artists:\n",
    "    artists_dict = pickle.load(artists)\n",
    "    artists.close()"
   ]
  },
  {
   "cell_type": "code",
   "execution_count": 6,
   "id": "8bbe46f2",
   "metadata": {},
   "outputs": [],
   "source": [
    "df = artists_dict['BTS'].dropna()"
   ]
  },
  {
   "cell_type": "markdown",
   "id": "539cf43d",
   "metadata": {},
   "source": [
    "### Preprocessing - Post Malone"
   ]
  },
  {
   "cell_type": "markdown",
   "id": "ae11bbec",
   "metadata": {},
   "source": [
    "##### Train Test Split & Scale"
   ]
  },
  {
   "cell_type": "code",
   "execution_count": 7,
   "id": "ab20edee",
   "metadata": {},
   "outputs": [],
   "source": [
    "X_train, y_train, X_test, sc = train_test(df, 5, 13)"
   ]
  },
  {
   "cell_type": "markdown",
   "id": "33e286b9",
   "metadata": {},
   "source": [
    "##### Modeling"
   ]
  },
  {
   "cell_type": "code",
   "execution_count": 8,
   "id": "ecc0a7c5",
   "metadata": {},
   "outputs": [
    {
     "name": "stderr",
     "output_type": "stream",
     "text": [
      "2022-06-01 15:59:17.592977: I tensorflow/core/common_runtime/pluggable_device/pluggable_device_factory.cc:305] Could not identify NUMA node of platform GPU ID 0, defaulting to 0. Your kernel may not have been built with NUMA support.\n",
      "2022-06-01 15:59:17.593076: I tensorflow/core/common_runtime/pluggable_device/pluggable_device_factory.cc:271] Created TensorFlow device (/job:localhost/replica:0/task:0/device:GPU:0 with 0 MB memory) -> physical PluggableDevice (device: 0, name: METAL, pci bus id: <undefined>)\n"
     ]
    },
    {
     "name": "stdout",
     "output_type": "stream",
     "text": [
      "Metal device set to: Apple M1\n"
     ]
    },
    {
     "name": "stderr",
     "output_type": "stream",
     "text": [
      "2022-06-01 15:59:17.837151: W tensorflow/core/platform/profile_utils/cpu_utils.cc:128] Failed to get CPU frequency: 0 Hz\n",
      "2022-06-01 15:59:18.991348: I tensorflow/core/grappler/optimizers/custom_graph_optimizer_registry.cc:113] Plugin optimizer for device_type GPU is enabled.\n",
      "2022-06-01 15:59:19.164332: I tensorflow/core/grappler/optimizers/custom_graph_optimizer_registry.cc:113] Plugin optimizer for device_type GPU is enabled.\n",
      "2022-06-01 15:59:19.197962: I tensorflow/core/grappler/optimizers/custom_graph_optimizer_registry.cc:113] Plugin optimizer for device_type GPU is enabled.\n",
      "2022-06-01 15:59:19.257597: I tensorflow/core/grappler/optimizers/custom_graph_optimizer_registry.cc:113] Plugin optimizer for device_type GPU is enabled.\n",
      "2022-06-01 15:59:19.321585: I tensorflow/core/grappler/optimizers/custom_graph_optimizer_registry.cc:113] Plugin optimizer for device_type GPU is enabled.\n",
      "2022-06-01 15:59:19.768122: I tensorflow/core/grappler/optimizers/custom_graph_optimizer_registry.cc:113] Plugin optimizer for device_type GPU is enabled.\n",
      "2022-06-01 15:59:19.826823: I tensorflow/core/grappler/optimizers/custom_graph_optimizer_registry.cc:113] Plugin optimizer for device_type GPU is enabled.\n",
      "2022-06-01 15:59:19.848259: I tensorflow/core/grappler/optimizers/custom_graph_optimizer_registry.cc:113] Plugin optimizer for device_type GPU is enabled.\n",
      "2022-06-01 15:59:31.663971: I tensorflow/core/grappler/optimizers/custom_graph_optimizer_registry.cc:113] Plugin optimizer for device_type GPU is enabled.\n",
      "2022-06-01 15:59:31.717431: I tensorflow/core/grappler/optimizers/custom_graph_optimizer_registry.cc:113] Plugin optimizer for device_type GPU is enabled.\n",
      "2022-06-01 15:59:31.739792: I tensorflow/core/grappler/optimizers/custom_graph_optimizer_registry.cc:113] Plugin optimizer for device_type GPU is enabled.\n"
     ]
    }
   ],
   "source": [
    "my_GRU_model, GRU_prediction, history = GRU_model(X_train, y_train, X_test, sc, 'FSM')"
   ]
  },
  {
   "cell_type": "code",
   "execution_count": 9,
   "id": "7149f6dd",
   "metadata": {},
   "outputs": [
    {
     "name": "stderr",
     "output_type": "stream",
     "text": [
      "2022-06-01 15:59:31.987825: I tensorflow/core/grappler/optimizers/custom_graph_optimizer_registry.cc:113] Plugin optimizer for device_type GPU is enabled.\n",
      "2022-06-01 15:59:32.038693: I tensorflow/core/grappler/optimizers/custom_graph_optimizer_registry.cc:113] Plugin optimizer for device_type GPU is enabled.\n",
      "2022-06-01 15:59:32.061181: I tensorflow/core/grappler/optimizers/custom_graph_optimizer_registry.cc:113] Plugin optimizer for device_type GPU is enabled.\n"
     ]
    },
    {
     "data": {
      "text/plain": [
       "<AxesSubplot:xlabel='Date'>"
      ]
     },
     "execution_count": 9,
     "metadata": {},
     "output_type": "execute_result"
    },
    {
     "data": {
      "image/png": "[encoded data removed]",
      "text/plain": [
       "<Figure size 432x288 with 1 Axes>"
      ]
     },
     "metadata": {
      "needs_background": "light"
     },
     "output_type": "display_data"
    }
   ],
   "source": [
    "pred = sc.inverse_transform(my_GRU_model.predict(X_train))\n",
    "actual_pred_2 = pd.DataFrame(columns=['Actual', 'Predict'])\n",
    "actual_pred_2['Actual'] = df[:'2019'][5:len(pred)+5]\n",
    "actual_pred_2['Predict'] = pred\n",
    "\n",
    "actual_pred_2.plot()"
   ]
  },
  {
   "cell_type": "code",
   "execution_count": 10,
   "id": "a76d8371",
   "metadata": {},
   "outputs": [
    {
     "name": "stdout",
     "output_type": "stream",
     "text": [
      "RMSE: 9940178000000000.0\n"
     ]
    },
    {
     "data": {
      "image/png": "[encoded data removed]",
      "text/plain": [
       "<Figure size 432x288 with 1 Axes>"
      ]
     },
     "metadata": {
      "needs_background": "light"
     },
     "output_type": "display_data"
    }
   ],
   "source": [
    "rmse, actual_pred = actual_pred_plot(df, GRU_prediction)\n",
    "actual_pred.plot()\n",
    "print('RMSE:', rmse)"
   ]
  },
  {
   "cell_type": "code",
   "execution_count": 11,
   "id": "3cbef00c",
   "metadata": {},
   "outputs": [],
   "source": [
    "my_GRU_model.save('../models/FSM.h5')\n"
   ]
  },
  {
   "cell_type": "code",
   "execution_count": 12,
   "id": "f4f68cac",
   "metadata": {},
   "outputs": [
    {
     "data": {
      "text/plain": [
       "<AxesSubplot:>"
      ]
     },
     "execution_count": 12,
     "metadata": {},
     "output_type": "execute_result"
    },
    {
     "data": {
      "image/png": "[encoded data removed]",
      "text/plain": [
       "<Figure size 432x288 with 1 Axes>"
      ]
     },
     "metadata": {
      "needs_background": "light"
     },
     "output_type": "display_data"
    }
   ],
   "source": [
    "history_dict = history.history\n",
    "loss_value = history_dict['loss']\n",
    "val_loss_value = history_dict['val_loss']\n",
    "epochs = range(1, len(loss_value)+1)\n",
    "train_val_df = pd.DataFrame(columns=['loss', 'val_loss'], index=epochs)\n",
    "train_val_df['loss'] = loss_value\n",
    "train_val_df['val_loss'] = val_loss_value\n",
    "train_val_df.plot()"
   ]
  }
 ],
 "metadata": {
  "kernelspec": {
   "display_name": "Python 3 (ipykernel)",
   "language": "python",
   "name": "python3"
  },
  "language_info": {
   "codemirror_mode": {
    "name": "ipython",
    "version": 3
   },
   "file_extension": ".py",
   "mimetype": "text/x-python",
   "name": "python",
   "nbconvert_exporter": "python",
   "pygments_lexer": "ipython3",
   "version": "3.9.0"
  }
 },
 "nbformat": 4,
 "nbformat_minor": 5
}
