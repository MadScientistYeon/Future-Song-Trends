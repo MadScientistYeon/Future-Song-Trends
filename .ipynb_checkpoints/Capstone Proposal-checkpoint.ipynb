{
 "cells": [
  {
   "cell_type": "markdown",
   "id": "c49a35d8",
   "metadata": {},
   "source": [
    "# Capstone Proposal\n",
    "**Project Manager:** Yeonjae Zhang.  \n",
    "**Title:** Data Scientist."
   ]
  },
  {
   "cell_type": "markdown",
   "id": "93e825ed",
   "metadata": {},
   "source": [
    "# Future Song Trends"
   ]
  },
  {
   "cell_type": "code",
   "execution_count": null,
   "id": "57960995",
   "metadata": {},
   "outputs": [],
   "source": []
  }
 ],
 "metadata": {
  "kernelspec": {
   "display_name": "Python 3 (ipykernel)",
   "language": "python",
   "name": "python3"
  },
  "language_info": {
   "codemirror_mode": {
    "name": "ipython",
    "version": 3
   },
   "file_extension": ".py",
   "mimetype": "text/x-python",
   "name": "python",
   "nbconvert_exporter": "python",
   "pygments_lexer": "ipython3",
   "version": "3.9.0"
  }
 },
 "nbformat": 4,
 "nbformat_minor": 5
}
